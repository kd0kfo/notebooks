{
 "metadata": {
  "name": ""
 },
 "nbformat": 3,
 "nbformat_minor": 0,
 "worksheets": [
  {
   "cells": [
    {
     "cell_type": "heading",
     "level": 2,
     "metadata": {},
     "source": [
      "Setup"
     ]
    },
    {
     "cell_type": "markdown",
     "metadata": {},
     "source": [
      "Setup imports and the play function. Playing has the user start with Door 0. Then the winning door is also chosen at random. The user randomly switches also."
     ]
    },
    {
     "cell_type": "code",
     "collapsed": false,
     "input": [
      "import random\n",
      "import numpy as np\n",
      "import matplotlib.pyplot as plt\n",
      "import pandas\n",
      "\n",
      "def play():\n",
      "    choices = [0,1,2]\n",
      "    userchooses = 0\n",
      "    winning = random.choice(choices)\n",
      "    hallchoices = [0,1,2]\n",
      "    hallchoices.remove(userchooses)\n",
      "    hallchooses = [i for i in hallchoices if i != winning][0]\n",
      "    \n",
      "    switch = (random.choice([0, 1]) == 1)\n",
      "    if switch:\n",
      "        userchooses = [i for i in [0,1,2] if i not in [userchooses, hallchooses]][0]\n",
      "    return (userchooses == winning, switch, userchooses, hallchooses, winning)"
     ],
     "language": "python",
     "metadata": {},
     "outputs": [],
     "prompt_number": 1
    },
    {
     "cell_type": "markdown",
     "metadata": {},
     "source": [
      "Here's one example play."
     ]
    },
    {
     "cell_type": "code",
     "collapsed": false,
     "input": [
      "outcome = play()\n",
      "print(\"Did user win? %s\" % outcome[0])\n",
      "print(\"Did user switch? %s\" % outcome[1])\n",
      "print(\"What did user choose? %s\" % outcome[2])\n",
      "print(\"What did Hall choose? %s\" % outcome[3])\n",
      "print(\"What was the winning door? %s\" % outcome[4])"
     ],
     "language": "python",
     "metadata": {},
     "outputs": [
      {
       "output_type": "stream",
       "stream": "stdout",
       "text": [
        "Did user win? False\n",
        "Did user switch? False\n",
        "What did user choose? 0\n",
        "What did Hall choose? 2\n",
        "What was the winning door? 1\n"
       ]
      }
     ],
     "prompt_number": 2
    },
    {
     "cell_type": "heading",
     "level": 2,
     "metadata": {},
     "source": [
      "Play"
     ]
    },
    {
     "cell_type": "markdown",
     "metadata": {},
     "source": [
      "A bunch of plays stored in a numpy array"
     ]
    },
    {
     "cell_type": "code",
     "collapsed": false,
     "input": [
      "trials = np.ndarray((100000, 5), dtype=np.int64)\n",
      "for i in xrange(len(trials)):\n",
      "    trials[i] = play()\n",
      "trials[0]"
     ],
     "language": "python",
     "metadata": {},
     "outputs": [
      {
       "metadata": {},
       "output_type": "pyout",
       "prompt_number": 3,
       "text": [
        "array([0, 1, 2, 1, 0])"
       ]
      }
     ],
     "prompt_number": 3
    },
    {
     "cell_type": "code",
     "collapsed": false,
     "input": [
      "np.sum(trials, 0)"
     ],
     "language": "python",
     "metadata": {},
     "outputs": [
      {
       "metadata": {},
       "output_type": "pyout",
       "prompt_number": 4,
       "text": [
        "array([ 49846,  49937,  83163, 133515,  99807])"
       ]
      }
     ],
     "prompt_number": 4
    },
    {
     "cell_type": "markdown",
     "metadata": {},
     "source": [
      "Use a DataFrame for a lot of convenience :-D"
     ]
    },
    {
     "cell_type": "code",
     "collapsed": false,
     "input": [
      "df = pandas.DataFrame(trials, columns=('wins', 'switch', 'userchooses', 'hallchooses', 'correctchoice'))"
     ],
     "language": "python",
     "metadata": {},
     "outputs": [],
     "prompt_number": 5
    },
    {
     "cell_type": "code",
     "collapsed": false,
     "input": [
      "switch_outcomes = df[df['switch'] == 1]\n",
      "print(\"Number of times when user switched: %d\" % len(switch_outcomes))\n",
      "print(\"Number of times the user won after switch: %d (%0.2f)\" % (switch_outcomes['wins'].sum(), 100.0*switch_outcomes['wins'].sum()/len(switch_outcomes)))"
     ],
     "language": "python",
     "metadata": {},
     "outputs": [
      {
       "output_type": "stream",
       "stream": "stdout",
       "text": [
        "Number of times when user switched: 49937\n",
        "Number of times the user won after switch: 33222 (66.53)\n"
       ]
      }
     ],
     "prompt_number": 6
    },
    {
     "cell_type": "heading",
     "level": 2,
     "metadata": {},
     "source": [
      "Plots"
     ]
    },
    {
     "cell_type": "markdown",
     "metadata": {},
     "source": [
      "Are we switching randomly?"
     ]
    },
    {
     "cell_type": "code",
     "collapsed": false,
     "input": [
      "ignore = plt.hist(df['switch'])"
     ],
     "language": "python",
     "metadata": {},
     "outputs": [
      {
       "metadata": {},
       "output_type": "display_data",
       "png": "[encoded data removed]",
       "text": [
        "<matplotlib.figure.Figure at 0x2cfa150>"
       ]
      }
     ],
     "prompt_number": 11
    },
    {
     "cell_type": "markdown",
     "metadata": {},
     "source": [
      "What does Hall choose? User always starts with Door 0. So, Hall never chooses 0 or a winner."
     ]
    },
    {
     "cell_type": "code",
     "collapsed": false,
     "input": [
      "ignore = plt.hist(df['hallchooses'])"
     ],
     "language": "python",
     "metadata": {},
     "outputs": [
      {
       "metadata": {},
       "output_type": "display_data",
       "png": "[encoded data removed]",
       "text": [
        "<matplotlib.figure.Figure at 0x2a54250>"
       ]
      }
     ],
     "prompt_number": 14
    },
    {
     "cell_type": "markdown",
     "metadata": {},
     "source": [
      "View of wins regardless of switching. Most things in play() are random. How does this look?"
     ]
    },
    {
     "cell_type": "code",
     "collapsed": false,
     "input": [
      "ignore = plt.hist(df['wins'])\n",
      "ignore = plt.xticks((0,1), (\"Lose\", \"Win\"))"
     ],
     "language": "python",
     "metadata": {},
     "outputs": [
      {
       "metadata": {},
       "output_type": "display_data",
       "png": "[encoded data removed]",
       "text": [
        "<matplotlib.figure.Figure at 0x2a60b90>"
       ]
      }
     ],
     "prompt_number": 12
    },
    {
     "cell_type": "markdown",
     "metadata": {},
     "source": [
      "How does the user do if he/she switches?"
     ]
    },
    {
     "cell_type": "code",
     "collapsed": false,
     "input": [
      "ignore = plt.hist(df[df['switch'] == 1]['wins'])\n",
      "ignore = plt.xticks((0,1), (\"Lose\", \"Win\"))"
     ],
     "language": "python",
     "metadata": {},
     "outputs": [
      {
       "metadata": {},
       "output_type": "display_data",
       "png": "[encoded data removed]",
       "text": [
        "<matplotlib.figure.Figure at 0x2cc34d0>"
       ]
      }
     ],
     "prompt_number": 9
    },
    {
     "cell_type": "markdown",
     "metadata": {},
     "source": [
      "How does the user do if he/she doesn't switch?"
     ]
    },
    {
     "cell_type": "code",
     "collapsed": false,
     "input": [
      "ignore = plt.hist(df[df['switch'] == 0]['wins'])\n",
      "ignore = plt.xticks((0,1), (\"Lose\", \"Win\"))"
     ],
     "language": "python",
     "metadata": {},
     "outputs": [
      {
       "metadata": {},
       "output_type": "display_data",
       "png": "[encoded data removed]",
       "text": [
        "<matplotlib.figure.Figure at 0x2cf7650>"
       ]
      }
     ],
     "prompt_number": 10
    }
   ],
   "metadata": {}
  }
 ]
}