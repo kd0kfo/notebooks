{
 "metadata": {
  "name": ""
 },
 "nbformat": 3,
 "nbformat_minor": 0,
 "worksheets": [
  {
   "cells": [
    {
     "cell_type": "code",
     "collapsed": false,
     "input": [
      "import random\n",
      "import numpy as np\n",
      "import matplotlib.pyplot as plt\n",
      "import pandas\n",
      "\n",
      "def play():\n",
      "    choices = [0,1,2]\n",
      "    userchooses = 0 # random.choice(choices)\n",
      "    winning = random.choice(choices)\n",
      "    hallchoices = [0,1,2]\n",
      "    hallchoices.remove(userchooses)\n",
      "    hallchooses = [i for i in hallchoices if i != winning][0]\n",
      "    \n",
      "    switch = (random.choice([0, 1]) == 1)\n",
      "    if switch:\n",
      "        userchooses = [i for i in [0,1,2] if i not in [userchooses, hallchooses]][0]\n",
      "    return (userchooses == winning, switch, userchooses, hallchooses, winning)"
     ],
     "language": "python",
     "metadata": {},
     "outputs": [],
     "prompt_number": 168
    },
    {
     "cell_type": "code",
     "collapsed": false,
     "input": [
      "outcome = play()\n",
      "print(\"Did user win? %s\" % outcome[0])\n",
      "print(\"Did user switch? %s\" % outcome[1])\n",
      "print(\"What did user choose? %s\" % outcome[2])\n",
      "print(\"What did Hall choose? %s\" % outcome[3])\n",
      "print(\"What was the winning door? %s\" % outcome[4])"
     ],
     "language": "python",
     "metadata": {},
     "outputs": [
      {
       "output_type": "stream",
       "stream": "stdout",
       "text": [
        "Did user win? True\n",
        "Did user switch? True\n",
        "What did user choose? 2\n",
        "What did Hall choose? 1\n",
        "What was the winning door? 2\n"
       ]
      }
     ],
     "prompt_number": 169
    },
    {
     "cell_type": "code",
     "collapsed": false,
     "input": [
      "trials = np.ndarray((10000, 5), dtype=np.int64)\n",
      "for i in xrange(len(trials)):\n",
      "    trials[i] = play()\n",
      "trials[0]"
     ],
     "language": "python",
     "metadata": {},
     "outputs": [
      {
       "metadata": {},
       "output_type": "pyout",
       "prompt_number": 170,
       "text": [
        "array([0, 0, 0, 1, 2])"
       ]
      }
     ],
     "prompt_number": 170
    },
    {
     "cell_type": "code",
     "collapsed": false,
     "input": [
      "np.sum(trials, 0)"
     ],
     "language": "python",
     "metadata": {},
     "outputs": [
      {
       "metadata": {},
       "output_type": "pyout",
       "prompt_number": 171,
       "text": [
        "array([ 5032,  4996,  8300, 13320,  9836])"
       ]
      }
     ],
     "prompt_number": 171
    },
    {
     "cell_type": "code",
     "collapsed": false,
     "input": [
      "df = pandas.DataFrame(trials, columns=('wins', 'switch', 'userchooses', 'hallchooses', 'correctchoice'))"
     ],
     "language": "python",
     "metadata": {},
     "outputs": [],
     "prompt_number": 172
    },
    {
     "cell_type": "code",
     "collapsed": false,
     "input": [
      "switch_outcomes = df[df['switch'] == 1]\n",
      "print(\"Number of times when user switched: %d\" % len(switch_outcomes))\n",
      "print(\"Number of times the user won after switch: %d (%0.2f)\" % (switch_outcomes['wins'].sum(), 100.0*switch_outcomes['wins'].sum()/len(switch_outcomes)))"
     ],
     "language": "python",
     "metadata": {},
     "outputs": [
      {
       "output_type": "stream",
       "stream": "stdout",
       "text": [
        "Number of times when user switched: 4996\n",
        "Number of times the user won after switch: 3303 (66.11)\n"
       ]
      }
     ],
     "prompt_number": 173
    },
    {
     "cell_type": "code",
     "collapsed": false,
     "input": [
      "ignore = plt.hist(df['switch'])"
     ],
     "language": "python",
     "metadata": {},
     "outputs": [
      {
       "metadata": {},
       "output_type": "display_data",
       "png": "[encoded data removed]",
       "text": [
        "<matplotlib.figure.Figure at 0x5638cd0>"
       ]
      }
     ],
     "prompt_number": 174
    },
    {
     "cell_type": "code",
     "collapsed": false,
     "input": [
      "ignore = plt.hist(df['wins'])\n",
      "ignore = plt.xticks((0,1), (\"Lose\", \"Win\"))"
     ],
     "language": "python",
     "metadata": {},
     "outputs": [
      {
       "metadata": {},
       "output_type": "display_data",
       "png": "[encoded data removed]",
       "text": [
        "<matplotlib.figure.Figure at 0x5bef650>"
       ]
      }
     ],
     "prompt_number": 175
    },
    {
     "cell_type": "code",
     "collapsed": false,
     "input": [
      "ignore = plt.hist(df[df['switch'] == 1]['wins'])\n",
      "ignore = plt.xticks((0,1), (\"Lose\", \"Win\"))"
     ],
     "language": "python",
     "metadata": {},
     "outputs": [
      {
       "metadata": {},
       "output_type": "display_data",
       "png": "[encoded data removed]",
       "text": [
        "<matplotlib.figure.Figure at 0x598c550>"
       ]
      }
     ],
     "prompt_number": 176
    },
    {
     "cell_type": "code",
     "collapsed": false,
     "input": [
      "ignore = plt.hist(df[df['switch'] == 0]['wins'])\n",
      "ignore = plt.xticks((0,1), (\"Lose\", \"Win\"))"
     ],
     "language": "python",
     "metadata": {},
     "outputs": [
      {
       "metadata": {},
       "output_type": "display_data",
       "png": "[encoded data removed]",
       "text": [
        "<matplotlib.figure.Figure at 0x596dd10>"
       ]
      }
     ],
     "prompt_number": 177
    },
    {
     "cell_type": "code",
     "collapsed": false,
     "input": [],
     "language": "python",
     "metadata": {},
     "outputs": []
    }
   ],
   "metadata": {}
  }
 ]
}